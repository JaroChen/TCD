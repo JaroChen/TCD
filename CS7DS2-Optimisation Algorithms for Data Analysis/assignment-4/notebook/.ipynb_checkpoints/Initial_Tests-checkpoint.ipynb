{
 "cells": [
  {
   "cell_type": "code",
   "execution_count": 5,
   "id": "7cb16272-bfcc-4424-8c9e-9eacbe09ddf6",
   "metadata": {},
   "outputs": [],
   "source": [
    "# 在Jupyter Notebook中\n",
    "%matplotlib inline\n",
    "import sys\n",
    "# sys.path.append('../src/')\n",
    "from functions import func1, grad_func1\n",
    "from optimization_algorithms import gradient_descent\n",
    "\n",
    "# 设置初始参数并调用梯度下降算法\n",
    "# (x, y), history = gradient_descent(10, 10, grad_func1, alpha=0.01, num_iterations=100)\n"
   ]
  },
  {
   "cell_type": "code",
   "execution_count": null,
   "id": "8e18a291-289d-47cc-8df2-7af7f4cbfee4",
   "metadata": {},
   "outputs": [],
   "source": []
  }
 ],
 "metadata": {
  "kernelspec": {
   "display_name": "Python 3 (ipykernel)",
   "language": "python",
   "name": "python3"
  },
  "language_info": {
   "codemirror_mode": {
    "name": "ipython",
    "version": 3
   },
   "file_extension": ".py",
   "mimetype": "text/x-python",
   "name": "python",
   "nbconvert_exporter": "python",
   "pygments_lexer": "ipython3",
   "version": "3.11.7"
  }
 },
 "nbformat": 4,
 "nbformat_minor": 5
}
