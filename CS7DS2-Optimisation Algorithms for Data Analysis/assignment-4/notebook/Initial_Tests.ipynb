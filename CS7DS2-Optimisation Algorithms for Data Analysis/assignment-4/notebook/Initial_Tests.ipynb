{
 "cells": [
  {
   "cell_type": "code",
   "execution_count": 8,
   "id": "7cb16272-bfcc-4424-8c9e-9eacbe09ddf6",
   "metadata": {},
   "outputs": [
    {
     "ename": "ModuleNotFoundError",
     "evalue": "No module named 'optimization_algorithms'",
     "output_type": "error",
     "traceback": [
      "\u001b[1;31m---------------------------------------------------------------------------\u001b[0m",
      "\u001b[1;31mModuleNotFoundError\u001b[0m                       Traceback (most recent call last)",
      "Cell \u001b[1;32mIn[8], line 6\u001b[0m\n\u001b[0;32m      4\u001b[0m sys\u001b[38;5;241m.\u001b[39mpath\u001b[38;5;241m.\u001b[39mappend(\u001b[38;5;124m'\u001b[39m\u001b[38;5;124m../src/\u001b[39m\u001b[38;5;124m'\u001b[39m)\n\u001b[0;32m      5\u001b[0m \u001b[38;5;28;01mfrom\u001b[39;00m \u001b[38;5;21;01mfunctions\u001b[39;00m \u001b[38;5;28;01mimport\u001b[39;00m func1, grad_func1\n\u001b[1;32m----> 6\u001b[0m \u001b[38;5;28;01mfrom\u001b[39;00m \u001b[38;5;21;01moptimization_algorithms\u001b[39;00m \u001b[38;5;28;01mimport\u001b[39;00m gradient_descent\n\u001b[0;32m      8\u001b[0m \u001b[38;5;66;03m# 设置初始参数并调用梯度下降算法\u001b[39;00m\n\u001b[0;32m      9\u001b[0m (x, y), history \u001b[38;5;241m=\u001b[39m gradient_descent(\u001b[38;5;241m10\u001b[39m, \u001b[38;5;241m10\u001b[39m, grad_func1, alpha\u001b[38;5;241m=\u001b[39m\u001b[38;5;241m0.01\u001b[39m, num_iterations\u001b[38;5;241m=\u001b[39m\u001b[38;5;241m100\u001b[39m)\n",
      "\u001b[1;31mModuleNotFoundError\u001b[0m: No module named 'optimization_algorithms'"
     ]
    }
   ],
   "source": [
    "# 在Jupyter Notebook中\n",
    "%matplotlib inline\n",
    "import sys\n",
    "sys.path.append('../src/')\n",
    "from functions import func1, grad_func1\n",
    "from optimization_algorithms import gradient_descent\n",
    "\n",
    "# 设置初始参数并调用梯度下降算法\n",
    "(x, y), history = gradient_descent(10, 10, grad_func1, alpha=0.01, num_iterations=100)\n"
   ]
  },
  {
   "cell_type": "code",
   "execution_count": null,
   "id": "8e18a291-289d-47cc-8df2-7af7f4cbfee4",
   "metadata": {},
   "outputs": [],
   "source": []
  }
 ],
 "metadata": {
  "kernelspec": {
   "display_name": "Python 3 (ipykernel)",
   "language": "python",
   "name": "python3"
  },
  "language_info": {
   "codemirror_mode": {
    "name": "ipython",
    "version": 3
   },
   "file_extension": ".py",
   "mimetype": "text/x-python",
   "name": "python",
   "nbconvert_exporter": "python",
   "pygments_lexer": "ipython3",
   "version": "3.11.7"
  }
 },
 "nbformat": 4,
 "nbformat_minor": 5
}
