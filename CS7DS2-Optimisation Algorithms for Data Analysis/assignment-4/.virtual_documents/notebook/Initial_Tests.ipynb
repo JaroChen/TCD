# 在Jupyter Notebook中
%matplotlib inline
import sys
sys.path.append('../src/')
from functions import func1, grad_func1
from optimization_algorithms import gradient_descent

# 设置初始参数并调用梯度下降算法
(x, y), history = gradient_descent(10, 10, grad_func1, alpha=0.01, num_iterations=100)




